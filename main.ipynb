{
 "cells": [
  {
   "cell_type": "code",
   "execution_count": 114,
   "id": "571aee87-48a8-4e36-8856-abcf516d0b62",
   "metadata": {},
   "outputs": [],
   "source": [
    "import os\n",
    "import csv\n",
    "import pandas as pd\n",
    "import numpy as np\n",
    "from matplotlib import pyplot as plt"
   ]
  },
  {
   "cell_type": "code",
   "execution_count": 115,
   "id": "09509ede-c82c-4a04-88b3-ce21ce08e571",
   "metadata": {},
   "outputs": [
    {
     "data": {
      "text/plain": [
       "'/Users/michaelhaile/Desktop/Resources'"
      ]
     },
     "execution_count": 115,
     "metadata": {},
     "output_type": "execute_result"
    }
   ],
   "source": [
    "os.getcwd()"
   ]
  },
  {
   "cell_type": "code",
   "execution_count": 116,
   "id": "f41afdc5-eb7c-467a-9d92-a53023687ac8",
   "metadata": {
    "scrolled": true
   },
   "outputs": [
    {
     "data": {
      "text/html": [
       "<div>\n",
       "<style scoped>\n",
       "    .dataframe tbody tr th:only-of-type {\n",
       "        vertical-align: middle;\n",
       "    }\n",
       "\n",
       "    .dataframe tbody tr th {\n",
       "        vertical-align: top;\n",
       "    }\n",
       "\n",
       "    .dataframe thead th {\n",
       "        text-align: right;\n",
       "    }\n",
       "</style>\n",
       "<table border=\"1\" class=\"dataframe\">\n",
       "  <thead>\n",
       "    <tr style=\"text-align: right;\">\n",
       "      <th></th>\n",
       "      <th>Date</th>\n",
       "      <th>Profit/Losses</th>\n",
       "    </tr>\n",
       "  </thead>\n",
       "  <tbody>\n",
       "    <tr>\n",
       "      <th>0</th>\n",
       "      <td>Jan-10</td>\n",
       "      <td>1088983</td>\n",
       "    </tr>\n",
       "    <tr>\n",
       "      <th>1</th>\n",
       "      <td>Feb-10</td>\n",
       "      <td>-354534</td>\n",
       "    </tr>\n",
       "  </tbody>\n",
       "</table>\n",
       "</div>"
      ],
      "text/plain": [
       "     Date  Profit/Losses\n",
       "0  Jan-10        1088983\n",
       "1  Feb-10        -354534"
      ]
     },
     "execution_count": 116,
     "metadata": {},
     "output_type": "execute_result"
    }
   ],
   "source": [
    "df_budget = pd.read_csv(\"budget_data.csv\", sep =\",\")\n",
    "df_budget.head(2)\n",
    "#df_budget[\"Date\"] = pd.to.datetime(df_budget[\"Date\"],format=\"%\")"
   ]
  },
  {
   "cell_type": "code",
   "execution_count": 117,
   "id": "932ac936-125a-4fd0-bd46-0fb72b2654a5",
   "metadata": {},
   "outputs": [
    {
     "data": {
      "text/plain": [
       "Date             object\n",
       "Profit/Losses     int64\n",
       "dtype: object"
      ]
     },
     "execution_count": 117,
     "metadata": {},
     "output_type": "execute_result"
    }
   ],
   "source": [
    "df_budget.dtypes"
   ]
  },
  {
   "cell_type": "code",
   "execution_count": 118,
   "id": "f475e67a-30c3-476a-b1c9-15235aebef60",
   "metadata": {},
   "outputs": [],
   "source": [
    "#df_budget[\"Date\"] = pd.to_datetime(df_budget[\"Date\"], errors = \"coerce\")\n",
    "# extract month and date\n",
    "#df_budget[\"Month\"] = df_budget[\"Date\"].dt.month\n",
    "#df_budget[\"Year\"] = df_budget[\"Date\"].dt.year\n",
    "#df_budget[\"MonthYear\"] = df_budget[\"Date\"].dt.year\n",
    "#df_budget[\"MonthYear\"] = df_budget[\"Date\"].dt.strftime(\"%Y-%m\")\n",
    "#df_budget.head(2)"
   ]
  },
  {
   "cell_type": "markdown",
   "id": "54e010b4-2753-488f-a187-4e9b39caf6c7",
   "metadata": {},
   "source": [
    "Total number of months included in the budget_data.csv is:"
   ]
  },
  {
   "cell_type": "code",
   "execution_count": 119,
   "id": "d9aeec35-6624-4140-a5fe-6024da60dc7b",
   "metadata": {},
   "outputs": [
    {
     "data": {
      "text/plain": [
       "86"
      ]
     },
     "execution_count": 119,
     "metadata": {},
     "output_type": "execute_result"
    }
   ],
   "source": [
    "number_of_months = df_budget[\"Date\"].nunique()\n",
    "number_of_months"
   ]
  },
  {
   "cell_type": "markdown",
   "id": "5f84a915-8e99-4aa4-b4ed-819ef0743935",
   "metadata": {},
   "source": [
    "The net Total Amount of \"Profit/Losses\"  over the entire period"
   ]
  },
  {
   "cell_type": "code",
   "execution_count": 120,
   "id": "da7130e1-3bec-432b-b8b5-938d4ca519fc",
   "metadata": {},
   "outputs": [
    {
     "data": {
      "text/plain": [
       "22564198"
      ]
     },
     "execution_count": 120,
     "metadata": {},
     "output_type": "execute_result"
    }
   ],
   "source": [
    "Net_Amount = df_budget[\"Profit/Losses\"].sum()\n",
    "Net_Amount"
   ]
  },
  {
   "cell_type": "markdown",
   "id": "75f69ee0-cb7d-404d-9703-bc91bc14eb90",
   "metadata": {},
   "source": [
    "The Change in Profit/Losses over the entire (date and amount) over the entire period\n"
   ]
  },
  {
   "cell_type": "code",
   "execution_count": 121,
   "id": "de9f7153-9371-4e41-b7cc-1486be3e3e23",
   "metadata": {},
   "outputs": [
    {
     "data": {
      "text/plain": [
       "0           NaN\n",
       "1    -1443517.0\n",
       "2      631156.0\n",
       "3    -1004755.0\n",
       "4     1581126.0\n",
       "        ...    \n",
       "81   -1627245.0\n",
       "82     616795.0\n",
       "83     628522.0\n",
       "84      90895.0\n",
       "85    -224669.0\n",
       "Name: Profit/Losses, Length: 86, dtype: float64"
      ]
     },
     "execution_count": 121,
     "metadata": {},
     "output_type": "execute_result"
    }
   ],
   "source": [
    "Change_Profit_Losses = df_budget[\"Profit/Losses\"].diff()\n",
    "Change_Profit_Losses"
   ]
  },
  {
   "cell_type": "markdown",
   "id": "2a568010-5986-4475-af3d-3829aad053aa",
   "metadata": {},
   "source": [
    "The Average of the Above Change\n"
   ]
  },
  {
   "cell_type": "code",
   "execution_count": 122,
   "id": "75188794-3af5-456a-95f4-98f8f181e5e0",
   "metadata": {},
   "outputs": [
    {
     "data": {
      "text/plain": [
       "-8311.11"
      ]
     },
     "execution_count": 122,
     "metadata": {},
     "output_type": "execute_result"
    }
   ],
   "source": [
    "Avg_change = df_budget[\"Profit/Losses\"].diff().mean().round(2)\n",
    "Avg_change"
   ]
  },
  {
   "cell_type": "markdown",
   "id": "fa739865-af4b-4075-b53a-d5f1e0e14f39",
   "metadata": {},
   "source": [
    "The Greatest increase in Profit(date and amount) over the entire period"
   ]
  },
  {
   "cell_type": "code",
   "execution_count": 123,
   "id": "e4c82ff2-8d94-4285-aa53-8f0352e1f963",
   "metadata": {},
   "outputs": [
    {
     "data": {
      "text/plain": [
       "1862002.0"
      ]
     },
     "execution_count": 123,
     "metadata": {},
     "output_type": "execute_result"
    }
   ],
   "source": [
    "greatest_increase = df_budget[\"Profit/Losses\"].diff().max()\n",
    "greatest_increase"
   ]
  },
  {
   "cell_type": "code",
   "execution_count": 124,
   "id": "e4c7fff5-e80e-4ecf-82cf-5c07dae8ad8a",
   "metadata": {},
   "outputs": [
    {
     "data": {
      "text/html": [
       "<div>\n",
       "<style scoped>\n",
       "    .dataframe tbody tr th:only-of-type {\n",
       "        vertical-align: middle;\n",
       "    }\n",
       "\n",
       "    .dataframe tbody tr th {\n",
       "        vertical-align: top;\n",
       "    }\n",
       "\n",
       "    .dataframe thead th {\n",
       "        text-align: right;\n",
       "    }\n",
       "</style>\n",
       "<table border=\"1\" class=\"dataframe\">\n",
       "  <thead>\n",
       "    <tr style=\"text-align: right;\">\n",
       "      <th></th>\n",
       "      <th>Date</th>\n",
       "      <th>Profit/Losses</th>\n",
       "      <th>Diff</th>\n",
       "    </tr>\n",
       "  </thead>\n",
       "  <tbody>\n",
       "    <tr>\n",
       "      <th>0</th>\n",
       "      <td>Jan-10</td>\n",
       "      <td>1088983</td>\n",
       "      <td>NaN</td>\n",
       "    </tr>\n",
       "    <tr>\n",
       "      <th>1</th>\n",
       "      <td>Feb-10</td>\n",
       "      <td>-354534</td>\n",
       "      <td>-1443517.0</td>\n",
       "    </tr>\n",
       "    <tr>\n",
       "      <th>2</th>\n",
       "      <td>Mar-10</td>\n",
       "      <td>276622</td>\n",
       "      <td>631156.0</td>\n",
       "    </tr>\n",
       "    <tr>\n",
       "      <th>3</th>\n",
       "      <td>Apr-10</td>\n",
       "      <td>-728133</td>\n",
       "      <td>-1004755.0</td>\n",
       "    </tr>\n",
       "  </tbody>\n",
       "</table>\n",
       "</div>"
      ],
      "text/plain": [
       "     Date  Profit/Losses       Diff\n",
       "0  Jan-10        1088983        NaN\n",
       "1  Feb-10        -354534 -1443517.0\n",
       "2  Mar-10         276622   631156.0\n",
       "3  Apr-10        -728133 -1004755.0"
      ]
     },
     "execution_count": 124,
     "metadata": {},
     "output_type": "execute_result"
    }
   ],
   "source": [
    "df_budget[\"Diff\"] = df_budget[\"Profit/Losses\"].diff().round(2)\n",
    "\n",
    "df_budget.head(4)"
   ]
  },
  {
   "cell_type": "code",
   "execution_count": 126,
   "id": "78b8c312-283b-4bf3-93fc-bb51d15fe7c6",
   "metadata": {},
   "outputs": [
    {
     "data": {
      "text/html": [
       "<div>\n",
       "<style scoped>\n",
       "    .dataframe tbody tr th:only-of-type {\n",
       "        vertical-align: middle;\n",
       "    }\n",
       "\n",
       "    .dataframe tbody tr th {\n",
       "        vertical-align: top;\n",
       "    }\n",
       "\n",
       "    .dataframe thead th {\n",
       "        text-align: right;\n",
       "    }\n",
       "</style>\n",
       "<table border=\"1\" class=\"dataframe\">\n",
       "  <thead>\n",
       "    <tr style=\"text-align: right;\">\n",
       "      <th></th>\n",
       "      <th>Date</th>\n",
       "      <th>Profit/Losses</th>\n",
       "      <th>Diff</th>\n",
       "    </tr>\n",
       "  </thead>\n",
       "  <tbody>\n",
       "    <tr>\n",
       "      <th>79</th>\n",
       "      <td>Aug-16</td>\n",
       "      <td>951227</td>\n",
       "      <td>1862002.0</td>\n",
       "    </tr>\n",
       "  </tbody>\n",
       "</table>\n",
       "</div>"
      ],
      "text/plain": [
       "      Date  Profit/Losses       Diff\n",
       "79  Aug-16         951227  1862002.0"
      ]
     },
     "execution_count": 126,
     "metadata": {},
     "output_type": "execute_result"
    }
   ],
   "source": [
    "month = df_budget[df_budget[\"Diff\"] == 1862002.0]\n",
    "month"
   ]
  },
  {
   "cell_type": "markdown",
   "id": "32653bcf-d95d-4f88-85f1-9a1111cdd80b",
   "metadata": {},
   "source": [
    "Aug-16 was with the greatest_increase"
   ]
  },
  {
   "cell_type": "code",
   "execution_count": 127,
   "id": "f9458a0d-4e0e-4599-a9eb-ff84362a14ff",
   "metadata": {},
   "outputs": [
    {
     "data": {
      "text/plain": [
       "-8311.11"
      ]
     },
     "execution_count": 127,
     "metadata": {},
     "output_type": "execute_result"
    }
   ],
   "source": [
    "greatest_decrease = df_budget[\"Diff\"].mean().round(2)\n",
    "greatest_decrease"
   ]
  },
  {
   "cell_type": "code",
   "execution_count": 128,
   "id": "85be4ec1-1b78-4519-88a4-132c2081b80b",
   "metadata": {},
   "outputs": [
    {
     "data": {
      "text/html": [
       "<div>\n",
       "<style scoped>\n",
       "    .dataframe tbody tr th:only-of-type {\n",
       "        vertical-align: middle;\n",
       "    }\n",
       "\n",
       "    .dataframe tbody tr th {\n",
       "        vertical-align: top;\n",
       "    }\n",
       "\n",
       "    .dataframe thead th {\n",
       "        text-align: right;\n",
       "    }\n",
       "</style>\n",
       "<table border=\"1\" class=\"dataframe\">\n",
       "  <thead>\n",
       "    <tr style=\"text-align: right;\">\n",
       "      <th></th>\n",
       "      <th>Date</th>\n",
       "      <th>Profit/Losses</th>\n",
       "      <th>Diff</th>\n",
       "    </tr>\n",
       "  </thead>\n",
       "  <tbody>\n",
       "    <tr>\n",
       "      <th>0</th>\n",
       "      <td>Jan-10</td>\n",
       "      <td>1088983</td>\n",
       "      <td>NaN</td>\n",
       "    </tr>\n",
       "    <tr>\n",
       "      <th>1</th>\n",
       "      <td>Feb-10</td>\n",
       "      <td>-354534</td>\n",
       "      <td>-1443517.0</td>\n",
       "    </tr>\n",
       "    <tr>\n",
       "      <th>2</th>\n",
       "      <td>Mar-10</td>\n",
       "      <td>276622</td>\n",
       "      <td>631156.0</td>\n",
       "    </tr>\n",
       "    <tr>\n",
       "      <th>3</th>\n",
       "      <td>Apr-10</td>\n",
       "      <td>-728133</td>\n",
       "      <td>-1004755.0</td>\n",
       "    </tr>\n",
       "  </tbody>\n",
       "</table>\n",
       "</div>"
      ],
      "text/plain": [
       "     Date  Profit/Losses       Diff\n",
       "0  Jan-10        1088983        NaN\n",
       "1  Feb-10        -354534 -1443517.0\n",
       "2  Mar-10         276622   631156.0\n",
       "3  Apr-10        -728133 -1004755.0"
      ]
     },
     "execution_count": 128,
     "metadata": {},
     "output_type": "execute_result"
    }
   ],
   "source": [
    "df_budget[\"Diff\"] = df_budget[\"Profit/Losses\"].diff().round(2)\n",
    "df_budget.head(4)"
   ]
  },
  {
   "cell_type": "code",
   "execution_count": 130,
   "id": "57c3d64d-7d6a-41c6-9077-19e3a48489e4",
   "metadata": {},
   "outputs": [
    {
     "data": {
      "text/html": [
       "<div>\n",
       "<style scoped>\n",
       "    .dataframe tbody tr th:only-of-type {\n",
       "        vertical-align: middle;\n",
       "    }\n",
       "\n",
       "    .dataframe tbody tr th {\n",
       "        vertical-align: top;\n",
       "    }\n",
       "\n",
       "    .dataframe thead th {\n",
       "        text-align: right;\n",
       "    }\n",
       "</style>\n",
       "<table border=\"1\" class=\"dataframe\">\n",
       "  <thead>\n",
       "    <tr style=\"text-align: right;\">\n",
       "      <th></th>\n",
       "      <th>Date</th>\n",
       "      <th>Profit/Losses</th>\n",
       "      <th>Diff</th>\n",
       "    </tr>\n",
       "  </thead>\n",
       "  <tbody>\n",
       "    <tr>\n",
       "      <th>49</th>\n",
       "      <td>Feb-14</td>\n",
       "      <td>-946748</td>\n",
       "      <td>-1825558.0</td>\n",
       "    </tr>\n",
       "  </tbody>\n",
       "</table>\n",
       "</div>"
      ],
      "text/plain": [
       "      Date  Profit/Losses       Diff\n",
       "49  Feb-14        -946748 -1825558.0"
      ]
     },
     "execution_count": 130,
     "metadata": {},
     "output_type": "execute_result"
    }
   ],
   "source": [
    "greatest_decrease = df_budget[df_budget[\"Diff\"]==-1825558]\n",
    "greatest_decrease"
   ]
  },
  {
   "cell_type": "code",
   "execution_count": null,
   "id": "cb4a0326-6e08-4d06-a3b4-c63cb060f3c2",
   "metadata": {},
   "outputs": [],
   "source": [
    "Greatest Decrease in Profits was in Feb 14 with amount of -1825558"
   ]
  },
  {
   "cell_type": "code",
   "execution_count": 144,
   "id": "02c1d508-6aba-4e3b-a4ba-0adfb0e674a7",
   "metadata": {},
   "outputs": [
    {
     "data": {
      "text/html": [
       "<div>\n",
       "<style scoped>\n",
       "    .dataframe tbody tr th:only-of-type {\n",
       "        vertical-align: middle;\n",
       "    }\n",
       "\n",
       "    .dataframe tbody tr th {\n",
       "        vertical-align: top;\n",
       "    }\n",
       "\n",
       "    .dataframe thead th {\n",
       "        text-align: right;\n",
       "    }\n",
       "</style>\n",
       "<table border=\"1\" class=\"dataframe\">\n",
       "  <thead>\n",
       "    <tr style=\"text-align: right;\">\n",
       "      <th></th>\n",
       "      <th>Ballot ID</th>\n",
       "      <th>County</th>\n",
       "      <th>Candidate</th>\n",
       "    </tr>\n",
       "  </thead>\n",
       "  <tbody>\n",
       "    <tr>\n",
       "      <th>0</th>\n",
       "      <td>1323913</td>\n",
       "      <td>Jefferson</td>\n",
       "      <td>Charles Casper Stockham</td>\n",
       "    </tr>\n",
       "    <tr>\n",
       "      <th>1</th>\n",
       "      <td>1005842</td>\n",
       "      <td>Jefferson</td>\n",
       "      <td>Charles Casper Stockham</td>\n",
       "    </tr>\n",
       "    <tr>\n",
       "      <th>2</th>\n",
       "      <td>1880345</td>\n",
       "      <td>Jefferson</td>\n",
       "      <td>Charles Casper Stockham</td>\n",
       "    </tr>\n",
       "  </tbody>\n",
       "</table>\n",
       "</div>"
      ],
      "text/plain": [
       "   Ballot ID     County                Candidate\n",
       "0    1323913  Jefferson  Charles Casper Stockham\n",
       "1    1005842  Jefferson  Charles Casper Stockham\n",
       "2    1880345  Jefferson  Charles Casper Stockham"
      ]
     },
     "execution_count": 144,
     "metadata": {},
     "output_type": "execute_result"
    }
   ],
   "source": [
    "df_pypoll = pd.read_csv(\"election_data.csv\")\n",
    "df_pypoll.head(3)"
   ]
  },
  {
   "cell_type": "markdown",
   "id": "84226b92-650d-468e-bde9-26954aa03a08",
   "metadata": {},
   "source": [
    "Total Number of Votes"
   ]
  },
  {
   "cell_type": "code",
   "execution_count": 145,
   "id": "8b0c296a-9a90-4d56-8dec-e52c2aaf0a5d",
   "metadata": {},
   "outputs": [
    {
     "data": {
      "text/plain": [
       "369711"
      ]
     },
     "execution_count": 145,
     "metadata": {},
     "output_type": "execute_result"
    }
   ],
   "source": [
    "total_votes = df_pypoll[\"Ballot ID\"].count()\n",
    "total_votes\n"
   ]
  },
  {
   "cell_type": "markdown",
   "id": "6b547215-724d-4b01-8bf1-68d3ea32354c",
   "metadata": {},
   "source": [
    "List of Candidates\n"
   ]
  },
  {
   "cell_type": "code",
   "execution_count": 152,
   "id": "a6bbb211-ae4d-4e7f-ac44-e68731a0495a",
   "metadata": {},
   "outputs": [
    {
     "data": {
      "text/plain": [
       "['Charles Casper Stockham', 'Diana DeGette', 'Raymon Anthony Doane']"
      ]
     },
     "execution_count": 152,
     "metadata": {},
     "output_type": "execute_result"
    }
   ],
   "source": [
    "candidates = df_pypoll[\"Candidate\"].unique().tolist()\n",
    "candidates"
   ]
  },
  {
   "cell_type": "code",
   "execution_count": 168,
   "id": "d9348d4f-e223-4b66-81bd-ec7062aa7844",
   "metadata": {},
   "outputs": [
    {
     "data": {
      "text/plain": [
       "Candidate\n",
       "Diana DeGette              272892\n",
       "Charles Casper Stockham     85213\n",
       "Raymon Anthony Doane        11606\n",
       "Name: count, dtype: int64"
      ]
     },
     "execution_count": 168,
     "metadata": {},
     "output_type": "execute_result"
    }
   ],
   "source": [
    "candidates_votes = df_pypoll[\"Candidate\"].value_counts()\n",
    "candidates_votes"
   ]
  },
  {
   "cell_type": "code",
   "execution_count": 160,
   "id": "50d981b2-6586-4a40-a2d4-889287a0f3ba",
   "metadata": {},
   "outputs": [
    {
     "data": {
      "text/plain": [
       "Candidate\n",
       "Diana DeGette              73.812\n",
       "Charles Casper Stockham    23.049\n",
       "Raymon Anthony Doane        3.139\n",
       "Name: count, dtype: float64"
      ]
     },
     "execution_count": 160,
     "metadata": {},
     "output_type": "execute_result"
    }
   ],
   "source": [
    "Candidates_vote_percentage = ((df_pypoll[\"Candidate\"].value_counts()/total_votes)*100).round(3)\n",
    "Candidates_vote_percentage"
   ]
  },
  {
   "cell_type": "markdown",
   "id": "940b4514-98d2-4fd4-8a2c-6f43d3317f85",
   "metadata": {},
   "source": [
    "from the above the winner with popular vote is Diana DeGette with 272892 votes sitting at \n",
    "73.812 %"
   ]
  },
  {
   "cell_type": "code",
   "execution_count": 164,
   "id": "eac37030-4562-4313-8171-c34933da97c2",
   "metadata": {},
   "outputs": [
    {
     "name": "stdout",
     "output_type": "stream",
     "text": [
      "Candidate\n",
      "Diana DeGette              73.812\n",
      "Charles Casper Stockham    23.049\n",
      "Raymon Anthony Doane        3.139\n",
      "Name: count, dtype: float64\n"
     ]
    }
   ],
   "source": [
    "print(Candidates_vote_percentage)"
   ]
  },
  {
   "cell_type": "code",
   "execution_count": null,
   "id": "f1587c7b-09b4-4001-ae69-f029411a8c32",
   "metadata": {},
   "outputs": [],
   "source": []
  },
  {
   "cell_type": "code",
   "execution_count": null,
   "id": "ac71aab1-e220-4adc-9e05-e0c6864913ca",
   "metadata": {},
   "outputs": [],
   "source": []
  },
  {
   "cell_type": "code",
   "execution_count": null,
   "id": "feb8372a-cd1c-4162-b7c5-4d952056df69",
   "metadata": {},
   "outputs": [],
   "source": []
  }
 ],
 "metadata": {
  "kernelspec": {
   "display_name": "Python 3 (ipykernel)",
   "language": "python",
   "name": "python3"
  },
  "language_info": {
   "codemirror_mode": {
    "name": "ipython",
    "version": 3
   },
   "file_extension": ".py",
   "mimetype": "text/x-python",
   "name": "python",
   "nbconvert_exporter": "python",
   "pygments_lexer": "ipython3",
   "version": "3.11.5"
  },
  "widgets": {
   "application/vnd.jupyter.widget-state+json": {
    "state": {},
    "version_major": 2,
    "version_minor": 0
   }
  }
 },
 "nbformat": 4,
 "nbformat_minor": 5
}
